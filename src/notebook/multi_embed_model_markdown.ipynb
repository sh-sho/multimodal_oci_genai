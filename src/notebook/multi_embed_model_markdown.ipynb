{
 "cells": [
  {
   "cell_type": "markdown",
   "id": "893e0200",
   "metadata": {},
   "source": [
    "### Chat with Markdown"
   ]
  },
  {
   "cell_type": "code",
   "execution_count": 1,
   "id": "ef5731db",
   "metadata": {},
   "outputs": [],
   "source": [
    "import os\n",
    "from langchain_core.documents import Document\n",
    "from langchain.callbacks.manager import CallbackManagerForRetrieverRun\n",
    "from langchain.schema import BaseRetriever\n",
    "from typing import List\n",
    "import oracledb\n",
    "import base64\n",
    "import json\n",
    "import pandas as pd\n",
    "from dotenv import find_dotenv, load_dotenv\n",
    "from collections import Counter\n",
    "\n",
    "\n",
    "from langchain_core.prompts import ChatPromptTemplate\n",
    "from langchain_core.runnables import RunnablePassthrough\n",
    "from langchain_core.output_parsers import StrOutputParser, JsonOutputParser\n",
    "from langchain_core.messages import HumanMessage, SystemMessage\n",
    "from langchain_community.embeddings import OCIGenAIEmbeddings\n",
    "from langchain_community.chat_models import ChatOCIGenAI\n",
    "from langchain_community.document_loaders import UnstructuredExcelLoader\n",
    "\n",
    "_ = load_dotenv(find_dotenv())\n",
    "oracledb.init_oracle_client()\n",
    "\n",
    "UN = os.getenv(\"UN\")\n",
    "PW = os.getenv(\"PW\")\n",
    "DSN = os.getenv(\"DSN\")\n",
    "OCI_COMPARTMENT_ID = os.getenv(\"OCI_COMPARTMENT_ID\")"
   ]
  },
  {
   "cell_type": "code",
   "execution_count": 2,
   "id": "92e4e4a1",
   "metadata": {},
   "outputs": [],
   "source": [
    "\n",
    "# Utils\n",
    "\n",
    "def get_embedding(text: str) -> list:\n",
    "  embeddings = OCIGenAIEmbeddings(\n",
    "    model_id=\"cohere.embed-multilingual-v3.0\",\n",
    "    service_endpoint=\"https://inference.generativeai.us-chicago-1.oci.oraclecloud.com\",\n",
    "    compartment_id=OCI_COMPARTMENT_ID,\n",
    "  )\n",
    "  return embeddings.embed_query(text)"
   ]
  },
  {
   "cell_type": "markdown",
   "id": "acac5039",
   "metadata": {},
   "source": [
    "#### Create Markdown Retriever\n"
   ]
  },
  {
   "cell_type": "code",
   "execution_count": 3,
   "id": "2f2c20e8",
   "metadata": {},
   "outputs": [],
   "source": [
    "class CustomMarkdownRetriever(BaseRetriever):\n",
    "    \"\"\"\n",
    "    Custom retriever.\n",
    "    \"\"\"\n",
    "\n",
    "    def _get_relevant_documents(\n",
    "        self, query: str, *, run_manager: CallbackManagerForRetrieverRun\n",
    "    ) -> List[Document]:\n",
    "        docs: List[Document] = []\n",
    "        embed_query = str(get_embedding(query))\n",
    "        try:\n",
    "            with oracledb.connect(user=UN, password=PW, dsn=DSN) as connection:\n",
    "                with connection.cursor() as cursor:\n",
    "                    df = pd.DataFrame()\n",
    "                    cursor.setinputsizes(oracledb.DB_TYPE_VECTOR)\n",
    "                    select_sql = f\"\"\"\n",
    "                        SELECT\n",
    "                            file_id,\n",
    "                            markdown\n",
    "                        FROM\n",
    "                            docs_contents\n",
    "                        ORDER BY VECTOR_DISTANCE(embedding, to_vector(:1, 1024, FLOAT32), COSINE)\n",
    "                    \"\"\"\n",
    "                    cursor.execute(select_sql, [embed_query])\n",
    "                    for row in cursor:\n",
    "                        df_tmp = pd.DataFrame([[row[0], row[1].read()]],\n",
    "                                                columns=[\"file_id\", \"markdown\"])\n",
    "                        df = pd.concat([df, df_tmp], ignore_index=True)\n",
    "                    \n",
    "                    for i in range(len(df)):\n",
    "                        file_id = df.iloc[i, 0]\n",
    "                        markdown = df.iloc[i, 1]\n",
    "                        doc = Document(\n",
    "                            page_content=markdown,\n",
    "                            metadata={'file_id':file_id, 'vector_index': i}\n",
    "                            )\n",
    "                        docs.append(doc)\n",
    "                connection.close()\n",
    "        except oracledb.DatabaseError as e:\n",
    "            print(f\"Database error: {e}\")\n",
    "            raise\n",
    "        except Exception as e:\n",
    "            print(\"Error Vector Search:\", e)\n",
    "\n",
    "        return docs"
   ]
  },
  {
   "cell_type": "markdown",
   "id": "14f53414",
   "metadata": {},
   "source": [
    "### Create Chain"
   ]
  },
  {
   "cell_type": "code",
   "execution_count": 4,
   "id": "9b5f9499",
   "metadata": {},
   "outputs": [],
   "source": [
    "def get_text_by_text_with_markdown(query: str):\n",
    "    llm = ChatOCIGenAI(\n",
    "        model_id=\"cohere.command-a-03-2025\",\n",
    "        service_endpoint=\"https://inference.generativeai.us-chicago-1.oci.oraclecloud.com\",\n",
    "        compartment_id=OCI_COMPARTMENT_ID,\n",
    "        )\n",
    "    \n",
    "    prompt = ChatPromptTemplate([\n",
    "        (\"system\", \"あなたは質疑応答のAIアシスタントです。必ず日本語で答えてください。\"),\n",
    "        (\"human\", \"\"\"\n",
    "         以下のMarkdownのコンテキストに基づいて質問に答えてください。\n",
    "         回答は数字だけを回答してください。\n",
    "         ** 質問 **\n",
    "          {query} \n",
    "          \n",
    "        ** コンテキスト **\n",
    "        {context} \n",
    "        \"\"\"),\n",
    "    ])\n",
    "    retriever = CustomMarkdownRetriever()\n",
    "    chain = {'query': RunnablePassthrough(), 'context': retriever} | prompt | llm | StrOutputParser()\n",
    "\n",
    "    result = chain.invoke(query)\n",
    "    return result"
   ]
  },
  {
   "cell_type": "code",
   "execution_count": 5,
   "id": "a8882330",
   "metadata": {},
   "outputs": [
    {
     "name": "stdout",
     "output_type": "stream",
     "text": [
      "431\n"
     ]
    }
   ],
   "source": [
    "# response = get_text_by_text_with_markdown(\"2024年5月のハードウェアシステムズのTotalの売上を教えてください。\")\n",
    "response = get_text_by_text_with_markdown(\"2024/5のQ4のFacilityの経費を教えてください。\")\n",
    "print(response)"
   ]
  },
  {
   "cell_type": "code",
   "execution_count": 6,
   "id": "d20ea2da",
   "metadata": {},
   "outputs": [],
   "source": [
    "def get_text_by_text(query: str):\n",
    "    llm = ChatOCIGenAI(\n",
    "        model_id=\"cohere.command-a-03-2025\",\n",
    "        service_endpoint=\"https://inference.generativeai.us-chicago-1.oci.oraclecloud.com\",\n",
    "        compartment_id=OCI_COMPARTMENT_ID,\n",
    "        )\n",
    "    loader = UnstructuredExcelLoader(\"../../data/fy25q3-supplemental.xlsx\")\n",
    "    docs = loader.load()\n",
    "    context = \"\\n\".join([doc.page_content for doc in docs])\n",
    "\n",
    "    prompt = ChatPromptTemplate([\n",
    "        (\"system\", \"あなたは質疑応答のAIアシスタントです。必ず日本語で答えてください。\"),\n",
    "        (\"human\", \"\"\"\n",
    "         以下のコンテキストに基づいて質問に答えてください。\n",
    "         回答は数字だけを回答してください。\n",
    "         ** 質問 **\n",
    "          {query} \n",
    "          \n",
    "        ** コンテキスト **\n",
    "        \"\"\" + context + \"\"\"\n",
    "        ** Output **\n",
    "        value: int\n",
    "        \"\"\"),\n",
    "    ])\n",
    "    chain = {'query': RunnablePassthrough()} | prompt | llm | StrOutputParser()\n",
    "\n",
    "    result = chain.invoke(query)\n",
    "    return result"
   ]
  },
  {
   "cell_type": "code",
   "execution_count": 7,
   "id": "b800c14c",
   "metadata": {},
   "outputs": [
    {
     "name": "stdout",
     "output_type": "stream",
     "text": [
      "1622\n"
     ]
    }
   ],
   "source": [
    "# response = get_text_by_text(\"2025年のハードウェアシステムズのTotalの売上を教えてください。\")\n",
    "response = get_text_by_text(\"2024/5のQ4のFacilityの経費を教えてください。\")\n",
    "print(response)"
   ]
  },
  {
   "cell_type": "code",
   "execution_count": 8,
   "id": "e8da261e",
   "metadata": {},
   "outputs": [
    {
     "data": {
      "text/html": [
       "<style type=\"text/css\">\n",
       "</style>\n",
       "<table id=\"T_ed4d9\">\n",
       "  <caption>Results for get_text_by_text_with_markdown</caption>\n",
       "  <thead>\n",
       "    <tr>\n",
       "      <th class=\"blank level0\" >&nbsp;</th>\n",
       "      <th id=\"T_ed4d9_level0_col0\" class=\"col_heading level0 col0\" >Result</th>\n",
       "      <th id=\"T_ed4d9_level0_col1\" class=\"col_heading level0 col1\" >Count</th>\n",
       "    </tr>\n",
       "  </thead>\n",
       "  <tbody>\n",
       "    <tr>\n",
       "      <th id=\"T_ed4d9_level0_row0\" class=\"row_heading level0 row0\" >0</th>\n",
       "      <td id=\"T_ed4d9_row0_col0\" class=\"data row0 col0\" >431</td>\n",
       "      <td id=\"T_ed4d9_row0_col1\" class=\"data row0 col1\" >20</td>\n",
       "    </tr>\n",
       "  </tbody>\n",
       "</table>\n"
      ],
      "text/plain": [
       "<pandas.io.formats.style.Styler at 0x7f7b8084bad0>"
      ]
     },
     "metadata": {},
     "output_type": "display_data"
    },
    {
     "data": {
      "text/html": [
       "<style type=\"text/css\">\n",
       "</style>\n",
       "<table id=\"T_19f67\">\n",
       "  <caption>Results for get_text_by_text</caption>\n",
       "  <thead>\n",
       "    <tr>\n",
       "      <th class=\"blank level0\" >&nbsp;</th>\n",
       "      <th id=\"T_19f67_level0_col0\" class=\"col_heading level0 col0\" >Result</th>\n",
       "      <th id=\"T_19f67_level0_col1\" class=\"col_heading level0 col1\" >Count</th>\n",
       "    </tr>\n",
       "  </thead>\n",
       "  <tbody>\n",
       "    <tr>\n",
       "      <th id=\"T_19f67_level0_row0\" class=\"row_heading level0 row0\" >0</th>\n",
       "      <td id=\"T_19f67_row0_col0\" class=\"data row0 col0\" >1622</td>\n",
       "      <td id=\"T_19f67_row0_col1\" class=\"data row0 col1\" >15</td>\n",
       "    </tr>\n",
       "    <tr>\n",
       "      <th id=\"T_19f67_level0_row1\" class=\"row_heading level0 row1\" >1</th>\n",
       "      <td id=\"T_19f67_row1_col0\" class=\"data row1 col0\" >431</td>\n",
       "      <td id=\"T_19f67_row1_col1\" class=\"data row1 col1\" >5</td>\n",
       "    </tr>\n",
       "  </tbody>\n",
       "</table>\n"
      ],
      "text/plain": [
       "<pandas.io.formats.style.Styler at 0x7f7b8084bad0>"
      ]
     },
     "metadata": {},
     "output_type": "display_data"
    }
   ],
   "source": [
    "query = \"2024/5のQ4のFacilityの経費を教えてください。\"\n",
    "\n",
    "results_with_markdown = []\n",
    "results_with_text = []\n",
    "\n",
    "for _ in range(20):\n",
    "    res = get_text_by_text_with_markdown(query)\n",
    "    results_with_markdown.append(res)\n",
    "\n",
    "for _ in range(20):\n",
    "    res = get_text_by_text(query)\n",
    "    results_with_text.append(res)\n",
    "\n",
    "result_counts_with_markdown = Counter(results_with_markdown)\n",
    "result_counts_with_text = Counter(results_with_text)\n",
    "\n",
    "df_with_markdown = pd.DataFrame(\n",
    "    list(result_counts_with_markdown.items()), \n",
    "    columns=[\"Result\", \"Count\"]\n",
    ").sort_values(by=\"Count\", ascending=False)\n",
    "df_with_text = pd.DataFrame(\n",
    "    list(result_counts_with_text.items()), \n",
    "    columns=[\"Result\", \"Count\"]\n",
    ").sort_values(by=\"Count\", ascending=False)\n",
    "\n",
    "display(df_with_markdown.style.set_caption(\"Results for get_text_by_text_with_markdown\"))\n",
    "display(df_with_text.style.set_caption(\"Results for get_text_by_text\"))"
   ]
  },
  {
   "cell_type": "code",
   "execution_count": null,
   "id": "1de70281",
   "metadata": {},
   "outputs": [],
   "source": []
  }
 ],
 "metadata": {
  "kernelspec": {
   "display_name": ".venv",
   "language": "python",
   "name": "python3"
  },
  "language_info": {
   "codemirror_mode": {
    "name": "ipython",
    "version": 3
   },
   "file_extension": ".py",
   "mimetype": "text/x-python",
   "name": "python",
   "nbconvert_exporter": "python",
   "pygments_lexer": "ipython3",
   "version": "3.12.8"
  }
 },
 "nbformat": 4,
 "nbformat_minor": 5
}
